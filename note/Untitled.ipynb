{
 "cells": [
  {
   "cell_type": "code",
   "execution_count": 46,
   "id": "3a7bbe82-bbbe-4f90-bdd3-341eddfc8e07",
   "metadata": {},
   "outputs": [
    {
     "name": "stdout",
     "output_type": "stream",
     "text": [
      "['강현룡', '조성근', '권오준']\n",
      "['조민규', '강현룡', '권오준']\n",
      "['안재영', '서민혁', '강현룡']\n"
     ]
    },
    {
     "name": "stderr",
     "output_type": "stream",
     "text": [
      "/tmp/ipykernel_974198/3467567519.py:4: DeprecationWarning: Sampling from a set deprecated\n",
      "since Python 3.9 and will be removed in a subsequent version.\n",
      "  row1 = f'{random.sample(arr, 3)}\\n{random.sample(arr, 3)}\\n{random.sample(arr, 3)}'\n"
     ]
    }
   ],
   "source": [
    "import random\n",
    "\n",
    "arr = set([\"전희진\",\"배형균\",\"안재영\",\"조성근\",\"서민혁\",\"권오준\",\"백지원\",\"강현룡\",\"조민규\"])\n",
    "row1 = f'{random.sample(arr, 3)}\\n{random.sample(arr, 3)}\\n{random.sample(arr, 3)}'\n",
    "print(row1)"
   ]
  },
  {
   "cell_type": "code",
   "execution_count": 68,
   "id": "fe469b2e-f51e-40ac-9104-7fb32a752d70",
   "metadata": {},
   "outputs": [
    {
     "name": "stdout",
     "output_type": "stream",
     "text": [
      "['강현룡', '전희진', '백지원']\n",
      "['권오준', '서민혁', '배형균']\n",
      "['백지원', '전희진', '안재영']\n",
      "['조민규', '조성근', '강현룡']\n"
     ]
    },
    {
     "name": "stderr",
     "output_type": "stream",
     "text": [
      "/tmp/ipykernel_974198/3388999568.py:9: DeprecationWarning: Sampling from a set deprecated\n",
      "since Python 3.9 and will be removed in a subsequent version.\n",
      "  sample = random.sample(s,3)\n"
     ]
    }
   ],
   "source": [
    "import random\n",
    "\n",
    "s1 = set([\"전희진\",\"배형균\",\"안재영\"])\n",
    "s2 = set([\"조성근\",\"서민혁\",\"권오준\"])\n",
    "s3 = set([\"백지원\",\"강현룡\",\"조민규\"])\n",
    "\n",
    "s = s1|s2|s3\n",
    "\n",
    "sample = random.sample(s,3)\n",
    "print(sample)\n",
    "\n",
    "# 모든 요소를 3개씩 묶어서 출력\n",
    "for i in range(0, len(sample), 3):\n",
    "    group = list(s1|s2|s3)[i:i+3]\n",
    "    print(group)"
   ]
  },
  {
   "cell_type": "code",
   "execution_count": 74,
   "id": "e248d5f5-41d9-46f3-be45-d6f7b81d5f6f",
   "metadata": {},
   "outputs": [
    {
     "name": "stdout",
     "output_type": "stream",
     "text": [
      "['권오준', '배형균', '전희진']\n"
     ]
    },
    {
     "name": "stderr",
     "output_type": "stream",
     "text": [
      "/tmp/ipykernel_974198/675787273.py:9: DeprecationWarning: Sampling from a set deprecated\n",
      "since Python 3.9 and will be removed in a subsequent version.\n",
      "  sample = random.sample(s,3)\n"
     ]
    }
   ],
   "source": [
    "import random\n",
    "\n",
    "s1 = set([\"전희진\",\"배형균\",\"안재영\"])\n",
    "s2 = set([\"조성근\",\"서민혁\",\"권오준\"])\n",
    "s3 = set([\"백지원\",\"강현룡\",\"조민규\"])\n",
    "\n",
    "s = s1|s2|s3\n",
    "\n",
    "sample = random.sample(s,3)\n",
    "print(sample)"
   ]
  },
  {
   "cell_type": "code",
   "execution_count": 101,
   "id": "a0b11d9e-d117-4256-a280-0d7385918e8a",
   "metadata": {},
   "outputs": [
    {
     "name": "stdout",
     "output_type": "stream",
     "text": [
      "['강현룡', '배형균', '권오준', '조민규', '서민혁', '안재영', '조성근', '전희진', '백지원']\n"
     ]
    },
    {
     "name": "stderr",
     "output_type": "stream",
     "text": [
      "/tmp/ipykernel_974198/782215945.py:7: DeprecationWarning: Sampling from a set deprecated\n",
      "since Python 3.9 and will be removed in a subsequent version.\n",
      "  sample = random.sample(s,9)\n"
     ]
    }
   ],
   "source": [
    "s1 = set([\"전희진\",\"배형균\",\"안재영\",\"조성근\",\"서민혁\",\"권오준\",\"백지원\",\"강현룡\",\"조민규\"])\n",
    "s2 = set([\"전희진\",\"배형균\",\"안재영\",\"조성근\",\"서민혁\",\"권오준\",\"백지원\",\"강현룡\",\"조민규\"])\n",
    "s3 = set([\"전희진\",\"배형균\",\"안재영\",\"조성근\",\"서민혁\",\"권오준\",\"백지원\",\"강현룡\",\"조민규\"])\n",
    "\n",
    "s = s1|s2|s3\n",
    "\n",
    "sample = random.sample(s,9)\n",
    "print(sample)"
   ]
  },
  {
   "cell_type": "code",
   "execution_count": 103,
   "id": "de05972e-57ff-4382-b11a-678910f9db29",
   "metadata": {},
   "outputs": [
    {
     "name": "stdout",
     "output_type": "stream",
     "text": [
      "['조민규', '안재영', '조성근']\n",
      "['배형균', '백지원', '서민혁']\n",
      "['전희진', '강현룡', '권오준']\n"
     ]
    },
    {
     "name": "stderr",
     "output_type": "stream",
     "text": [
      "/tmp/ipykernel_974198/3089359865.py:7: DeprecationWarning: Sampling from a set deprecated\n",
      "since Python 3.9 and will be removed in a subsequent version.\n",
      "  sample = random.sample(s,9)\n"
     ]
    }
   ],
   "source": [
    "s1 = set([\"전희진\",\"배형균\",\"안재영\",\"조성근\",\"서민혁\",\"권오준\",\"백지원\",\"강현룡\",\"조민규\"])\n",
    "s2 = set([\"전희진\",\"배형균\",\"안재영\",\"조성근\",\"서민혁\",\"권오준\",\"백지원\",\"강현룡\",\"조민규\"])\n",
    "s3 = set([\"전희진\",\"배형균\",\"안재영\",\"조성근\",\"서민혁\",\"권오준\",\"백지원\",\"강현룡\",\"조민규\"])\n",
    "\n",
    "s = s1|s2|s3\n",
    "\n",
    "sample = random.sample(s,9)\n",
    "\n",
    "# 모든 요소를 3개씩 묶어서 출력\n",
    "for i in range(0, len(sample), 3):\n",
    "    group = list(sample)[i:i+3]\n",
    "    print(group)"
   ]
  },
  {
   "cell_type": "code",
   "execution_count": 112,
   "id": "e5b75a06-c5a4-49db-b7d7-6672afc2f2aa",
   "metadata": {},
   "outputs": [
    {
     "name": "stdout",
     "output_type": "stream",
     "text": [
      "['배형균', '권오준', '강현룡']\n",
      "['조성근', '백지원', '서민혁']\n",
      "['안재영', '전희진', '조민규']\n"
     ]
    },
    {
     "name": "stderr",
     "output_type": "stream",
     "text": [
      "/tmp/ipykernel_974198/4252305128.py:7: DeprecationWarning: Sampling from a set deprecated\n",
      "since Python 3.9 and will be removed in a subsequent version.\n",
      "  sample = random.sample(s,9)\n"
     ]
    }
   ],
   "source": [
    "s1 = set([\"전희진\",\"배형균\",\"안재영\"])\n",
    "s2 = set([\"조성근\",\"서민혁\",\"권오준\"])\n",
    "s3 = set([\"백지원\",\"강현룡\",\"조민규\"])\n",
    "\n",
    "s = s1|s2|s3\n",
    "\n",
    "sample = random.sample(s,9)\n",
    "\n",
    "# 모든 요소를 3개씩 묶어서 출력\n",
    "for i in range(0, len(sample), 3):\n",
    "    group = list(sample)[i:i+3]\n",
    "    print(group)"
   ]
  },
  {
   "cell_type": "code",
   "execution_count": 115,
   "id": "58203947-6b7f-41cb-86ed-d1d506143cc1",
   "metadata": {},
   "outputs": [
    {
     "name": "stdout",
     "output_type": "stream",
     "text": [
      "['안재영', '전희진', '조성근']\n",
      "['권오준', '조민규', '서민혁']\n",
      "['백지원', '강현룡', '배형균']\n"
     ]
    },
    {
     "name": "stderr",
     "output_type": "stream",
     "text": [
      "/tmp/ipykernel_974198/4272856763.py:9: DeprecationWarning: Sampling from a set deprecated\n",
      "since Python 3.9 and will be removed in a subsequent version.\n",
      "  sample = random.sample(s,9)\n"
     ]
    }
   ],
   "source": [
    "import random\n",
    "\n",
    "s1 = set([\"전희진\",\"배형균\",\"안재영\"])\n",
    "s2 = set([\"조성근\",\"서민혁\",\"권오준\"])\n",
    "s3 = set([\"백지원\",\"강현룡\",\"조민규\"])\n",
    "\n",
    "s = s1|s2|s3\n",
    "\n",
    "sample = random.sample(s,9)\n",
    "\n",
    "# 모든 요소를 3개씩 묶어서 출력\n",
    "for i in range(0, len(sample), 3):\n",
    "    YOGU2 = list(sample)[i:i+3]\n",
    "    print(YOGU2)"
   ]
  },
  {
   "cell_type": "code",
   "execution_count": null,
   "id": "9ecbe458-01f0-46a8-9c87-6e1664c3048f",
   "metadata": {},
   "outputs": [],
   "source": []
  }
 ],
 "metadata": {
  "kernelspec": {
   "display_name": "Python 3 (ipykernel)",
   "language": "python",
   "name": "python3"
  },
  "language_info": {
   "codemirror_mode": {
    "name": "ipython",
    "version": 3
   },
   "file_extension": ".py",
   "mimetype": "text/x-python",
   "name": "python",
   "nbconvert_exporter": "python",
   "pygments_lexer": "ipython3",
   "version": "3.10.12"
  }
 },
 "nbformat": 4,
 "nbformat_minor": 5
}
