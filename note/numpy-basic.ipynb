{
 "cells": [
  {
   "cell_type": "code",
   "execution_count": null,
   "id": "ebc8b4de-823f-4f33-8351-8fb5b9ad46d7",
   "metadata": {},
   "outputs": [],
   "source": [
    "import numpy as np"
   ]
  },
  {
   "cell_type": "code",
   "execution_count": null,
   "id": "e9c78e4d-eaec-4c58-9bac-1aa8cb1cd2ae",
   "metadata": {},
   "outputs": [],
   "source": [
    "arr = np.array([1,2,3,4,5])"
   ]
  },
  {
   "cell_type": "code",
   "execution_count": null,
   "id": "62123d26-a137-42d8-9e17-1126dbde8db5",
   "metadata": {},
   "outputs": [],
   "source": [
    "type(arr)"
   ]
  },
  {
   "cell_type": "code",
   "execution_count": null,
   "id": "3342b56d-b780-41e1-8aea-2c4580d59788",
   "metadata": {},
   "outputs": [],
   "source": [
    "arr.tolist()"
   ]
  },
  {
   "cell_type": "code",
   "execution_count": null,
   "id": "4da5a7a4-17ed-4895-a7cd-37b7863c289d",
   "metadata": {},
   "outputs": [],
   "source": [
    "matrix = [[1,2,3], [4,5,6]]"
   ]
  },
  {
   "cell_type": "code",
   "execution_count": null,
   "id": "b63a851c-1799-4a7e-af2b-a89bc6853348",
   "metadata": {},
   "outputs": [],
   "source": [
    "type(matrix)"
   ]
  },
  {
   "cell_type": "code",
   "execution_count": null,
   "id": "81a2a3c6-73e9-4ea9-b31b-2ca77a09e02d",
   "metadata": {},
   "outputs": [],
   "source": [
    "matrix = np.array([[1,2,3], [4,5,6]])"
   ]
  },
  {
   "cell_type": "code",
   "execution_count": null,
   "id": "64645b41-11e9-43f1-850a-46f4e0ac9823",
   "metadata": {},
   "outputs": [],
   "source": [
    "type(matrix)"
   ]
  },
  {
   "cell_type": "code",
   "execution_count": null,
   "id": "ffeb4ec7-91c5-4858-a2c8-786978544030",
   "metadata": {},
   "outputs": [],
   "source": [
    "matrix.shape"
   ]
  },
  {
   "cell_type": "code",
   "execution_count": null,
   "id": "1dc11e88-26db-4367-9e69-61f22d62551d",
   "metadata": {},
   "outputs": [],
   "source": [
    "matrix = np.array([[1,2,3], [4,5,6], [7,8,9], [10,11,12]])"
   ]
  },
  {
   "cell_type": "code",
   "execution_count": null,
   "id": "8abd3bc7-d2c7-4e3d-8c43-7aae700c3eb6",
   "metadata": {},
   "outputs": [],
   "source": [
    "matrix.shape"
   ]
  },
  {
   "cell_type": "code",
   "execution_count": null,
   "id": "9515ea9c-e266-45f1-8f8c-6cb7fa866f5b",
   "metadata": {},
   "outputs": [],
   "source": [
    "matrix.size"
   ]
  },
  {
   "cell_type": "code",
   "execution_count": null,
   "id": "4f7660bd-2577-4775-bef3-1b30ca345a81",
   "metadata": {},
   "outputs": [],
   "source": [
    "matrix[0,0]"
   ]
  },
  {
   "cell_type": "code",
   "execution_count": null,
   "id": "7f5652fc-ce50-4097-bc54-03cb8a641b51",
   "metadata": {},
   "outputs": [],
   "source": [
    "행, 열 = matrix.shape"
   ]
  },
  {
   "cell_type": "code",
   "execution_count": null,
   "id": "abc741ff-9b31-409b-b1ce-5acfd32b4991",
   "metadata": {},
   "outputs": [],
   "source": [
    "행"
   ]
  },
  {
   "cell_type": "code",
   "execution_count": null,
   "id": "4c1f40a9-428b-4e5c-9166-b7d1f7331fda",
   "metadata": {},
   "outputs": [],
   "source": [
    "열"
   ]
  },
  {
   "cell_type": "code",
   "execution_count": null,
   "id": "836e7b42-5813-4903-8d4b-7e9b06f825a4",
   "metadata": {},
   "outputs": [],
   "source": [
    "matrix.ndim"
   ]
  },
  {
   "cell_type": "code",
   "execution_count": null,
   "id": "cc4fa442-524d-4760-b7d2-9f992ec6a542",
   "metadata": {},
   "outputs": [],
   "source": [
    "arr_zeros = np.zeros(5)"
   ]
  },
  {
   "cell_type": "code",
   "execution_count": null,
   "id": "34cfae23-a3f7-47dd-9e18-b11d20929f7a",
   "metadata": {},
   "outputs": [],
   "source": [
    "arr_zeros"
   ]
  },
  {
   "cell_type": "code",
   "execution_count": null,
   "id": "42d25385-46e5-4d1a-af24-84b070eb20f4",
   "metadata": {},
   "outputs": [],
   "source": [
    "arr_zeros.dtype"
   ]
  },
  {
   "cell_type": "code",
   "execution_count": null,
   "id": "34fc3898-d686-4907-8653-0a80790bfd30",
   "metadata": {},
   "outputs": [],
   "source": [
    "[0] * 5"
   ]
  },
  {
   "cell_type": "code",
   "execution_count": null,
   "id": "6616b875-eaf4-41a5-9837-f07bec6fbec7",
   "metadata": {},
   "outputs": [],
   "source": [
    "arr_ones = np.ones(5)"
   ]
  },
  {
   "cell_type": "code",
   "execution_count": null,
   "id": "8a6d3b90-dbaa-4c3c-85e4-ee8fbf18089a",
   "metadata": {},
   "outputs": [],
   "source": [
    "arr_ones"
   ]
  },
  {
   "cell_type": "code",
   "execution_count": null,
   "id": "dc26a4b8-1460-4cab-a505-7e1938b5d4b3",
   "metadata": {},
   "outputs": [],
   "source": [
    "arr_full = np.full(5,7)"
   ]
  },
  {
   "cell_type": "code",
   "execution_count": null,
   "id": "f6055d14-d23f-47da-8b11-849ff57129a3",
   "metadata": {},
   "outputs": [],
   "source": [
    "arr_full"
   ]
  },
  {
   "cell_type": "code",
   "execution_count": null,
   "id": "3df62b61-802c-4285-ab68-85f421aae433",
   "metadata": {},
   "outputs": [],
   "source": [
    "p17 = arr_ones + arr_full"
   ]
  },
  {
   "cell_type": "code",
   "execution_count": null,
   "id": "0bb86f85-0ec6-4112-97da-947af31c30f1",
   "metadata": {},
   "outputs": [],
   "source": [
    "p17"
   ]
  },
  {
   "cell_type": "code",
   "execution_count": null,
   "id": "6f26f7d6-fd00-43b3-8d3a-91d266f94ad7",
   "metadata": {},
   "outputs": [],
   "source": [
    "p17 * arr_zeros"
   ]
  },
  {
   "cell_type": "code",
   "execution_count": null,
   "id": "bfe1d58c-f4b9-4f28-990e-ab8e1386c6d7",
   "metadata": {},
   "outputs": [],
   "source": [
    "np.linspace(0,10,5)"
   ]
  },
  {
   "cell_type": "code",
   "execution_count": null,
   "id": "dc5053d1-b778-404b-852f-7f29cbd2daad",
   "metadata": {},
   "outputs": [],
   "source": [
    "np.linspace(0,10,7)"
   ]
  },
  {
   "cell_type": "code",
   "execution_count": null,
   "id": "4a16a3b6-4c3c-4360-94c0-1da8e878a197",
   "metadata": {},
   "outputs": [],
   "source": [
    "np.linspace(0,10,6)"
   ]
  },
  {
   "cell_type": "code",
   "execution_count": null,
   "id": "dfd20622-979f-43e4-ba77-50a5835e25c6",
   "metadata": {},
   "outputs": [],
   "source": [
    "np.linspace(0,10,6, dtype=int)"
   ]
  },
  {
   "cell_type": "code",
   "execution_count": null,
   "id": "6047ed6d-3927-4721-b8dd-291119a63b18",
   "metadata": {},
   "outputs": [],
   "source": [
    "import numpy as np\n",
    "import matplotlib.pyplot as plt"
   ]
  },
  {
   "cell_type": "code",
   "execution_count": null,
   "id": "edc827c2-37fa-4260-bdef-8f2212726b02",
   "metadata": {},
   "outputs": [],
   "source": [
    "mean = 0\n",
    "std_dev = 1\n",
    "size = 1_000_000\n",
    "\n",
    "data = np.random.normal(loc=mean, scale=std_dev,size=size)"
   ]
  },
  {
   "cell_type": "code",
   "execution_count": null,
   "id": "a1f46b28-2b38-4588-9d65-c1e779397063",
   "metadata": {},
   "outputs": [],
   "source": [
    "plt.hist(data, bins=100, edgecolor='red', alpha=0.7)\n",
    "plt.title(\"N D\")\n",
    "plt.xlabel(\"V\")\n",
    "plt.show()"
   ]
  },
  {
   "cell_type": "code",
   "execution_count": null,
   "id": "9592465a-9425-43a0-a669-45133711e8d5",
   "metadata": {},
   "outputs": [],
   "source": [
    "data = np.random.uniform(0, 10, 1000)\n",
    "plt.hist(data, bins=100, edgecolor = 'black')\n",
    "plt.show()"
   ]
  },
  {
   "cell_type": "code",
   "execution_count": null,
   "id": "a3722e94-2e49-4dbe-aa6e-c7c2474d5b18",
   "metadata": {},
   "outputs": [],
   "source": []
  },
  {
   "cell_type": "code",
   "execution_count": 1,
   "id": "3ee60588-c158-4b17-9dbb-65fe3f59e6cc",
   "metadata": {},
   "outputs": [],
   "source": [
    "a = [1, 2, 3, 4]"
   ]
  },
  {
   "cell_type": "code",
   "execution_count": 2,
   "id": "3064d575-a865-4d62-83f7-839b6c443b3e",
   "metadata": {},
   "outputs": [],
   "source": [
    "import numpy as np"
   ]
  },
  {
   "cell_type": "code",
   "execution_count": 3,
   "id": "b2fa8b8c-937b-477e-85e2-a699f6dc5bf2",
   "metadata": {},
   "outputs": [
    {
     "data": {
      "text/plain": [
       "np.float64(1.118033988749895)"
      ]
     },
     "execution_count": 3,
     "metadata": {},
     "output_type": "execute_result"
    }
   ],
   "source": [
    "np.std(a)"
   ]
  },
  {
   "cell_type": "code",
   "execution_count": 4,
   "id": "93430215-68f7-40c7-b26f-f0add04eb380",
   "metadata": {},
   "outputs": [
    {
     "ename": "AttributeError",
     "evalue": "module 'numpy' has no attribute 'stddev'",
     "output_type": "error",
     "traceback": [
      "\u001b[0;31m---------------------------------------------------------------------------\u001b[0m",
      "\u001b[0;31mAttributeError\u001b[0m                            Traceback (most recent call last)",
      "Cell \u001b[0;32mIn[4], line 1\u001b[0m\n\u001b[0;32m----> 1\u001b[0m \u001b[43mnp\u001b[49m\u001b[38;5;241;43m.\u001b[39;49m\u001b[43mstddev\u001b[49m(a)\n",
      "File \u001b[0;32m~/code/reverse-proxy/.venv/lib/python3.10/site-packages/numpy/__init__.py:414\u001b[0m, in \u001b[0;36m__getattr__\u001b[0;34m(attr)\u001b[0m\n\u001b[1;32m    411\u001b[0m     \u001b[38;5;28;01mimport\u001b[39;00m\u001b[38;5;250m \u001b[39m\u001b[38;5;21;01mnumpy\u001b[39;00m\u001b[38;5;21;01m.\u001b[39;00m\u001b[38;5;21;01mchar\u001b[39;00m\u001b[38;5;250m \u001b[39m\u001b[38;5;28;01mas\u001b[39;00m\u001b[38;5;250m \u001b[39m\u001b[38;5;21;01mchar\u001b[39;00m\n\u001b[1;32m    412\u001b[0m     \u001b[38;5;28;01mreturn\u001b[39;00m char\u001b[38;5;241m.\u001b[39mchararray\n\u001b[0;32m--> 414\u001b[0m \u001b[38;5;28;01mraise\u001b[39;00m \u001b[38;5;167;01mAttributeError\u001b[39;00m(\u001b[38;5;124m\"\u001b[39m\u001b[38;5;124mmodule \u001b[39m\u001b[38;5;132;01m{!r}\u001b[39;00m\u001b[38;5;124m has no attribute \u001b[39m\u001b[38;5;124m\"\u001b[39m\n\u001b[1;32m    415\u001b[0m                      \u001b[38;5;124m\"\u001b[39m\u001b[38;5;132;01m{!r}\u001b[39;00m\u001b[38;5;124m\"\u001b[39m\u001b[38;5;241m.\u001b[39mformat(\u001b[38;5;18m__name__\u001b[39m, attr))\n",
      "\u001b[0;31mAttributeError\u001b[0m: module 'numpy' has no attribute 'stddev'"
     ]
    }
   ],
   "source": [
    "np.stddev(a)"
   ]
  },
  {
   "cell_type": "code",
   "execution_count": null,
   "id": "cbb405f2-d1a7-444e-b2a3-e508a3c300e9",
   "metadata": {},
   "outputs": [],
   "source": [
    "np.std(a)"
   ]
  },
  {
   "cell_type": "code",
   "execution_count": 8,
   "id": "57b1f4ee-d9c1-4a64-99d2-f2521df6612c",
   "metadata": {},
   "outputs": [
    {
     "data": {
      "text/plain": [
       "np.int64(1)"
      ]
     },
     "execution_count": 8,
     "metadata": {},
     "output_type": "execute_result"
    }
   ],
   "source": [
    "np.var(a, dtype = int)"
   ]
  },
  {
   "cell_type": "code",
   "execution_count": 9,
   "id": "1682eab1-b7a6-4fc4-9c90-d14881a74630",
   "metadata": {},
   "outputs": [
    {
     "ename": "NameError",
     "evalue": "name 'var' is not defined",
     "output_type": "error",
     "traceback": [
      "\u001b[0;31m---------------------------------------------------------------------------\u001b[0m",
      "\u001b[0;31mNameError\u001b[0m                                 Traceback (most recent call last)",
      "Cell \u001b[0;32mIn[9], line 1\u001b[0m\n\u001b[0;32m----> 1\u001b[0m \u001b[43mvar\u001b[49m(a)\n",
      "\u001b[0;31mNameError\u001b[0m: name 'var' is not defined"
     ]
    }
   ],
   "source": [
    "var(a)"
   ]
  },
  {
   "cell_type": "code",
   "execution_count": 12,
   "id": "215ba20f-e756-4f21-9cc3-2ba2561c437e",
   "metadata": {},
   "outputs": [],
   "source": [
    "import math"
   ]
  },
  {
   "cell_type": "code",
   "execution_count": 11,
   "id": "4c8036e7-1a65-447c-aeaa-096a7aab4c11",
   "metadata": {},
   "outputs": [
    {
     "ename": "NameError",
     "evalue": "name 'var' is not defined",
     "output_type": "error",
     "traceback": [
      "\u001b[0;31m---------------------------------------------------------------------------\u001b[0m",
      "\u001b[0;31mNameError\u001b[0m                                 Traceback (most recent call last)",
      "Cell \u001b[0;32mIn[11], line 1\u001b[0m\n\u001b[0;32m----> 1\u001b[0m \u001b[43mvar\u001b[49m(a)\n",
      "\u001b[0;31mNameError\u001b[0m: name 'var' is not defined"
     ]
    }
   ],
   "source": [
    "var(a)"
   ]
  },
  {
   "cell_type": "code",
   "execution_count": 13,
   "id": "06f315d3-9128-44e7-9b03-879afadc940a",
   "metadata": {},
   "outputs": [
    {
     "data": {
      "text/plain": [
       "np.float64(1.25)"
      ]
     },
     "execution_count": 13,
     "metadata": {},
     "output_type": "execute_result"
    }
   ],
   "source": [
    "np.var(a)"
   ]
  },
  {
   "cell_type": "code",
   "execution_count": 14,
   "id": "5d5ded4c-3435-47b6-92af-51fa8773531d",
   "metadata": {},
   "outputs": [
    {
     "ename": "NameError",
     "evalue": "name 'std' is not defined",
     "output_type": "error",
     "traceback": [
      "\u001b[0;31m---------------------------------------------------------------------------\u001b[0m",
      "\u001b[0;31mNameError\u001b[0m                                 Traceback (most recent call last)",
      "Cell \u001b[0;32mIn[14], line 1\u001b[0m\n\u001b[0;32m----> 1\u001b[0m \u001b[43mstd\u001b[49m(a)\n",
      "\u001b[0;31mNameError\u001b[0m: name 'std' is not defined"
     ]
    }
   ],
   "source": [
    "std(a)"
   ]
  },
  {
   "cell_type": "code",
   "execution_count": 15,
   "id": "9ec61b1b-b86c-4b3a-8250-3900f56a23cd",
   "metadata": {},
   "outputs": [
    {
     "ename": "NameError",
     "evalue": "name 'stddev' is not defined",
     "output_type": "error",
     "traceback": [
      "\u001b[0;31m---------------------------------------------------------------------------\u001b[0m",
      "\u001b[0;31mNameError\u001b[0m                                 Traceback (most recent call last)",
      "Cell \u001b[0;32mIn[15], line 1\u001b[0m\n\u001b[0;32m----> 1\u001b[0m \u001b[43mstddev\u001b[49m(a)\n",
      "\u001b[0;31mNameError\u001b[0m: name 'stddev' is not defined"
     ]
    }
   ],
   "source": [
    "stddev(a)"
   ]
  },
  {
   "cell_type": "code",
   "execution_count": 38,
   "id": "3fd077a2-9c0d-4984-b36d-598a057b3d74",
   "metadata": {},
   "outputs": [
    {
     "name": "stdout",
     "output_type": "stream",
     "text": [
      "[2.25, 0.25, 0.25, 2.25]\n",
      "1.25\n"
     ]
    }
   ],
   "source": [
    "a = [1, 2, 3, 4]\n",
    "m = sum(a) / len(a)\n",
    "list_diffs = []\n",
    "for x in a:\n",
    "    diff = (x-m)**2\n",
    "    list_diffs.append(diff)\n",
    "\n",
    "print(list_diffs)\n",
    "var = sum(list_diffs) / len(a)\n",
    "print(var)"
   ]
  },
  {
   "cell_type": "code",
   "execution_count": 40,
   "id": "85f55f7d-b93c-42ae-8f33-06eb255e96ee",
   "metadata": {},
   "outputs": [
    {
     "name": "stdout",
     "output_type": "stream",
     "text": [
      "[34, 12, 31] [77, 74, 89]\n"
     ]
    }
   ],
   "source": [
    "import random\n",
    "def gen_r_array_choices(N):\n",
    "    a = random.choices(range(101), k=N)\n",
    "    b = random.choices(range(101), k=N)\n",
    "    return a, b\n",
    "\n",
    "a, b = gen_r_array_choices(3)\n",
    "print(a, b)"
   ]
  },
  {
   "cell_type": "code",
   "execution_count": 47,
   "id": "ba355e36-5a05-4b1a-9478-d399136f457f",
   "metadata": {},
   "outputs": [
    {
     "name": "stdout",
     "output_type": "stream",
     "text": [
      "[87 47 35] [25 72 91]\n"
     ]
    }
   ],
   "source": [
    "import numpy\n",
    "def gen_r_array_choices(N):\n",
    "    a = np.random.choice(np.arange(0, 100), size=3, replace=False)\n",
    "    b = np.random.choice(np.arange(0, 100), size=3, replace=False)\n",
    "    return a, b\n",
    "\n",
    "a, b = gen_r_array_choices(3)\n",
    "print(a, b)"
   ]
  },
  {
   "cell_type": "code",
   "execution_count": 55,
   "id": "0131edbe-44cb-4cce-8a44-8fd0f6279cc0",
   "metadata": {},
   "outputs": [
    {
     "name": "stdout",
     "output_type": "stream",
     "text": [
      "0.1607875824\n"
     ]
    }
   ],
   "source": [
    "import numpy as np\n",
    "import time\n",
    "def gen_r_array_choices_numpy(N):\n",
    "    a = np.random.choice(np.arange(0, 100), size=N, replace=False)\n",
    "    b = np.random.choice(np.arange(0, 100), size=N, replace=False)\n",
    "    return a, b\n",
    "start_time = time.time()\n",
    "a, b = gen_r_array_choices(1_000_000)\n",
    "end_time = time.time()\n",
    "print(f'{end_time-start_time:.10f}')\n",
    "#print(a, b)"
   ]
  },
  {
   "cell_type": "code",
   "execution_count": 54,
   "id": "2212cda0-cfad-4f88-adeb-11b5c363b912",
   "metadata": {},
   "outputs": [
    {
     "name": "stdout",
     "output_type": "stream",
     "text": [
      "0.1532444954\n"
     ]
    }
   ],
   "source": [
    "import random\n",
    "import time\n",
    "def gen_r_array_choices(N):\n",
    "    a = random.choices(range(101), k=N)\n",
    "    b = random.choices(range(101), k=N)\n",
    "    return a, b\n",
    "start_time = time.time()\n",
    "a, b = gen_r_array_choices(1_000_000)\n",
    "end_time = time.time()\n",
    "print(f'{end_time - start_time:.10f}')"
   ]
  },
  {
   "cell_type": "code",
   "execution_count": 52,
   "id": "1777f7b1-8036-4232-b06f-dd857085aeda",
   "metadata": {},
   "outputs": [],
   "source": [
    "# size 1_000_000 일 배열 2개를 만드는 python 과 numpy 속도 비교 차트 그려보기\n",
    "# linspace 1_000_000 일 배열 2개를 만드는 python 과 numpy 속도 비교 차트 그려보기"
   ]
  },
  {
   "cell_type": "code",
   "execution_count": 61,
   "id": "1b401e7a-6f82-47f9-babf-900bacf331a5",
   "metadata": {},
   "outputs": [
    {
     "data": {
      "image/png": "[encoded data removed]",
      "text/plain": [
       "<Figure size 640x480 with 1 Axes>"
      ]
     },
     "metadata": {},
     "output_type": "display_data"
    },
    {
     "name": "stdout",
     "output_type": "stream",
     "text": [
      "N = 0: numpy time = 0.0008249283, random time = 0.0000145435\n",
      "N = 50000: numpy time = 0.0008373260, random time = 0.0073053837\n",
      "N = 100000: numpy time = 0.0015866756, random time = 0.0168831348\n",
      "N = 150000: numpy time = 0.0049679279, random time = 0.0228021145\n",
      "N = 200000: numpy time = 0.0027067661, random time = 0.0303907394\n",
      "N = 250000: numpy time = 0.0031428337, random time = 0.0367085934\n",
      "N = 300000: numpy time = 0.0038442612, random time = 0.0439641476\n",
      "N = 350000: numpy time = 0.0039336681, random time = 0.0513932705\n",
      "N = 400000: numpy time = 0.0046947002, random time = 0.0594859123\n",
      "N = 450000: numpy time = 0.0051317215, random time = 0.0654716492\n",
      "N = 500000: numpy time = 0.0055520535, random time = 0.0731630325\n",
      "N = 550000: numpy time = 0.0061721802, random time = 0.0804364681\n",
      "N = 600000: numpy time = 0.0071694851, random time = 0.0920209885\n",
      "N = 650000: numpy time = 0.0074038506, random time = 0.0952761173\n",
      "N = 700000: numpy time = 0.0079350471, random time = 0.1048817635\n",
      "N = 750000: numpy time = 0.0086102486, random time = 0.1101543903\n",
      "N = 800000: numpy time = 0.0092844963, random time = 0.1178073883\n",
      "N = 850000: numpy time = 0.0098204613, random time = 0.1312539577\n",
      "N = 900000: numpy time = 0.0106849670, random time = 0.1323676109\n",
      "N = 950000: numpy time = 0.0107672215, random time = 0.1381266117\n",
      "N = 1000000: numpy time = 0.0117783546, random time = 0.1496746540\n",
      "N = 1050000: numpy time = 0.0123567581, random time = 0.1563241482\n",
      "N = 1100000: numpy time = 0.0128681660, random time = 0.1618766785\n",
      "N = 1150000: numpy time = 0.0129597187, random time = 0.1709480286\n",
      "N = 1200000: numpy time = 0.0141534805, random time = 0.1799521446\n",
      "N = 1250000: numpy time = 0.0143480301, random time = 0.1845386028\n",
      "N = 1300000: numpy time = 0.0146188736, random time = 0.1941735744\n",
      "N = 1350000: numpy time = 0.0160319805, random time = 0.2034437656\n",
      "N = 1400000: numpy time = 0.0177021027, random time = 0.2124295235\n",
      "N = 1450000: numpy time = 0.0189251900, random time = 0.2215871811\n",
      "N = 1500000: numpy time = 0.0191540718, random time = 0.2194690704\n",
      "N = 1550000: numpy time = 0.0201265812, random time = 0.2336206436\n",
      "N = 1600000: numpy time = 0.0204820633, random time = 0.2432882786\n",
      "N = 1650000: numpy time = 0.0211815834, random time = 0.2505400181\n",
      "N = 1700000: numpy time = 0.0207650661, random time = 0.2573511600\n",
      "N = 1750000: numpy time = 0.0256185532, random time = 0.2727394104\n",
      "N = 1800000: numpy time = 0.0247063637, random time = 0.2674443722\n",
      "N = 1850000: numpy time = 0.0240736008, random time = 0.2773768902\n",
      "N = 1900000: numpy time = 0.0247342587, random time = 0.2848961353\n",
      "N = 1950000: numpy time = 0.0252246857, random time = 0.2870845795\n",
      "N = 2000000: numpy time = 0.0263807774, random time = 0.2946650982\n",
      "N = 2050000: numpy time = 0.0293416977, random time = 0.3103592396\n",
      "N = 2100000: numpy time = 0.0282487869, random time = 0.3196134567\n",
      "N = 2150000: numpy time = 0.0311944485, random time = 0.3226530552\n",
      "N = 2200000: numpy time = 0.0296757221, random time = 0.3300616741\n",
      "N = 2250000: numpy time = 0.0310318470, random time = 0.3371675014\n",
      "N = 2300000: numpy time = 0.0316352844, random time = 0.3447554111\n",
      "N = 2350000: numpy time = 0.0317716599, random time = 0.3519308567\n",
      "N = 2400000: numpy time = 0.0323746204, random time = 0.3662211895\n",
      "N = 2450000: numpy time = 0.0341691971, random time = 0.3667659760\n",
      "N = 2500000: numpy time = 0.0312306881, random time = 0.3740067482\n",
      "N = 2550000: numpy time = 0.0343835354, random time = 0.3799924850\n",
      "N = 2600000: numpy time = 0.0336165428, random time = 0.3953216076\n",
      "N = 2650000: numpy time = 0.0346803665, random time = 0.4045226574\n",
      "N = 2700000: numpy time = 0.0371959209, random time = 0.4034132957\n",
      "N = 2750000: numpy time = 0.0380825996, random time = 0.4147367477\n",
      "N = 2800000: numpy time = 0.0396108627, random time = 0.4172627926\n",
      "N = 2850000: numpy time = 0.0385487080, random time = 0.4267644882\n",
      "N = 2900000: numpy time = 0.0399107933, random time = 0.4381082058\n",
      "N = 2950000: numpy time = 0.0439631939, random time = 0.4416382313\n",
      "N = 3000000: numpy time = 0.0432636738, random time = 0.4485900402\n",
      "N = 3050000: numpy time = 0.0411453247, random time = 0.4588649273\n",
      "N = 3100000: numpy time = 0.0422642231, random time = 0.4682784081\n",
      "N = 3150000: numpy time = 0.0466380119, random time = 0.4727253914\n",
      "N = 3200000: numpy time = 0.0428214073, random time = 0.4784624577\n",
      "N = 3250000: numpy time = 0.0444557667, random time = 0.4907989502\n",
      "N = 3300000: numpy time = 0.0453143120, random time = 0.4967257977\n",
      "N = 3350000: numpy time = 0.0467531681, random time = 0.5019893646\n",
      "N = 3400000: numpy time = 0.0464768410, random time = 0.5096063614\n",
      "N = 3450000: numpy time = 0.0469772816, random time = 0.5224432945\n",
      "N = 3500000: numpy time = 0.0477063656, random time = 0.5286591053\n",
      "N = 3550000: numpy time = 0.0499739647, random time = 0.5368640423\n",
      "N = 3600000: numpy time = 0.0490412712, random time = -0.0689930916\n",
      "N = 3650000: numpy time = 0.0569531918, random time = 0.5453646183\n",
      "N = 3700000: numpy time = 0.0515501499, random time = 0.5627343655\n",
      "N = 3750000: numpy time = 0.0526986122, random time = 0.5639111996\n",
      "N = 3800000: numpy time = 0.0516700745, random time = 0.5699012280\n",
      "N = 3850000: numpy time = 0.0519046783, random time = 0.5778172016\n",
      "N = 3900000: numpy time = 0.0524899960, random time = 0.5935194492\n",
      "N = 3950000: numpy time = 0.0554158688, random time = 0.5957748890\n",
      "N = 4000000: numpy time = 0.0540347099, random time = 0.5984623432\n",
      "N = 4050000: numpy time = 0.0568306446, random time = 0.6027519703\n",
      "N = 4100000: numpy time = 0.0570423603, random time = 0.6213440895\n",
      "N = 4150000: numpy time = 0.0621967316, random time = 0.6246962547\n",
      "N = 4200000: numpy time = 0.0595066547, random time = 0.6290121078\n",
      "N = 4250000: numpy time = 0.0575466156, random time = 0.6483082771\n",
      "N = 4300000: numpy time = 0.0641009808, random time = 0.6473259926\n",
      "N = 4350000: numpy time = 0.0611951351, random time = 0.6548132896\n",
      "N = 4400000: numpy time = 0.0614955425, random time = 0.6640210152\n",
      "N = 4450000: numpy time = 0.0649600029, random time = 0.6656663418\n",
      "N = 4500000: numpy time = 0.0648524761, random time = 0.6736102104\n",
      "N = 4550000: numpy time = 0.0622248650, random time = 0.6962094307\n",
      "N = 4600000: numpy time = 0.0638849735, random time = 0.7089159489\n",
      "N = 4650000: numpy time = 0.0669028759, random time = 0.6855857372\n",
      "N = 4700000: numpy time = 0.0669116974, random time = 0.7161793709\n",
      "N = 4750000: numpy time = 0.0672004223, random time = 0.7122678757\n",
      "N = 4800000: numpy time = 0.0660467148, random time = 0.7231233120\n",
      "N = 4850000: numpy time = 0.0657556057, random time = 0.7263894081\n",
      "N = 4900000: numpy time = 0.0682237148, random time = 0.7305495739\n",
      "N = 4950000: numpy time = 0.0619592667, random time = 0.7339375019\n"
     ]
    }
   ],
   "source": [
    "import numpy as np\n",
    "import random\n",
    "import time\n",
    "import matplotlib.pyplot as plt\n",
    "\n",
    "def gen_r_array_choices_numpy(N):\n",
    "    a = np.random.choice(np.arange(0, 100), size=N)\n",
    "    b = np.random.choice(np.arange(0, 100), size=N)\n",
    "    return a, b\n",
    "\n",
    "def gen_r_array_choices(N):\n",
    "    a = random.choices(range(101), k=N)\n",
    "    b = random.choices(range(101), k=N)\n",
    "    return a, b\n",
    "\n",
    "sizes = range(0, 5_000_000, 50_000)  # 배열 크기 범위 설정 (50만부터 200만까지 10만 간격)\n",
    "numpy_times = []\n",
    "random_times = []\n",
    "\n",
    "for N in sizes:\n",
    "    # NumPy 방식 시간 측정\n",
    "    start_time = time.time()\n",
    "    gen_r_array_choices_numpy(N)\n",
    "    end_time = time.time()\n",
    "    numpy_times.append(end_time - start_time)\n",
    "\n",
    "    # random.choices 방식 시간 측정\n",
    "    start_time = time.time()\n",
    "    gen_r_array_choices(N)\n",
    "    end_time = time.time()\n",
    "    random_times.append(end_time - start_time)\n",
    "\n",
    "# 속도 차트 그리기\n",
    "plt.plot(sizes, numpy_times, label='NumPy')\n",
    "plt.plot(sizes, random_times, label='random.choices')\n",
    "plt.xlabel('Array Size (N)')\n",
    "plt.ylabel('Execution Time (seconds)')\n",
    "plt.title('Execution Time Comparison')\n",
    "plt.legend()\n",
    "plt.grid(True)\n",
    "plt.show()\n",
    "\n",
    "#수치 비교 출력\n",
    "for i, N in enumerate(sizes):\n",
    "  print(f\"N = {N}: numpy time = {numpy_times[i]:.10f}, random time = {random_times[i]:.10f}\")"
   ]
  },
  {
   "cell_type": "code",
   "execution_count": 70,
   "id": "85ffe26e-7ac5-4e3c-a19b-1dc4b4154c95",
   "metadata": {},
   "outputs": [
    {
     "ename": "TypeError",
     "evalue": "range() takes no keyword arguments",
     "output_type": "error",
     "traceback": [
      "\u001b[0;31m---------------------------------------------------------------------------\u001b[0m",
      "\u001b[0;31mTypeError\u001b[0m                                 Traceback (most recent call last)",
      "Cell \u001b[0;32mIn[70], line 26\u001b[0m\n\u001b[1;32m     23\u001b[0m     b \u001b[38;5;241m=\u001b[39m [\u001b[38;5;241m0\u001b[39m \u001b[38;5;241m+\u001b[39m i \u001b[38;5;241m*\u001b[39m (\u001b[38;5;241m100\u001b[39m \u001b[38;5;241m/\u001b[39m (N \u001b[38;5;241m-\u001b[39m \u001b[38;5;241m1\u001b[39m)) \u001b[38;5;28;01mfor\u001b[39;00m i \u001b[38;5;129;01min\u001b[39;00m \u001b[38;5;28mrange\u001b[39m(N)]\n\u001b[1;32m     24\u001b[0m     \u001b[38;5;28;01mreturn\u001b[39;00m a, b\n\u001b[0;32m---> 26\u001b[0m sizes \u001b[38;5;241m=\u001b[39m \u001b[38;5;28;43mrange\u001b[39;49m\u001b[43m(\u001b[49m\u001b[38;5;241;43m0\u001b[39;49m\u001b[43m,\u001b[49m\u001b[43m \u001b[49m\u001b[38;5;241;43m1_000_000\u001b[39;49m\u001b[43m,\u001b[49m\u001b[43m \u001b[49m\u001b[38;5;241;43m100\u001b[39;49m\u001b[43m,\u001b[49m\u001b[43m \u001b[49m\u001b[43mdtype\u001b[49m\u001b[38;5;241;43m=\u001b[39;49m\u001b[38;5;28;43mint\u001b[39;49m\u001b[43m)\u001b[49m  \u001b[38;5;66;03m# 배열 크기 범위 설정 (100만부터 200만까지 10만 간격)\u001b[39;00m\n\u001b[1;32m     27\u001b[0m numpy_choice_times \u001b[38;5;241m=\u001b[39m []\n\u001b[1;32m     28\u001b[0m random_choice_times \u001b[38;5;241m=\u001b[39m []\n",
      "\u001b[0;31mTypeError\u001b[0m: range() takes no keyword arguments"
     ]
    }
   ],
   "source": [
    "import numpy as np\n",
    "import random\n",
    "import time\n",
    "import matplotlib.pyplot as plt\n",
    "\n",
    "def gen_r_array_choices_numpy(N):\n",
    "    a = np.random.choice(np.arange(0, 101), size=N)\n",
    "    b = np.random.choice(np.arange(0, 101), size=N)\n",
    "    return a, b\n",
    "\n",
    "def gen_r_array_choices(N):\n",
    "    a = random.choices(range(101), k=N)\n",
    "    b = random.choices(range(101), k=N)\n",
    "    return a, b\n",
    "\n",
    "def gen_linspace_numpy(N):\n",
    "    a = np.linspace(0, 100, N)\n",
    "    b = np.linspace(0, 100, N)\n",
    "    return a, b\n",
    "\n",
    "def gen_linspace_python(N):\n",
    "    a = [0 + i * (100 / (N - 1)) for i in range(N)]\n",
    "    b = [0 + i * (100 / (N - 1)) for i in range(N)]\n",
    "    return a, b\n",
    "\n",
    "sizes = range(0, 1_000_000, 100, dtpe)  # 배열 크기 범위 설정 (100만부터 200만까지 10만 간격)\n",
    "numpy_choice_times = []\n",
    "random_choice_times = []\n",
    "numpy_linspace_times = []\n",
    "python_linspace_times = []\n",
    "\n",
    "for N in sizes:\n",
    "    # NumPy choice 방식 시간 측정\n",
    "    start_time = time.time()\n",
    "    gen_r_array_choices_numpy(N)\n",
    "    end_time = time.time()\n",
    "    numpy_choice_times.append(end_time - start_time)\n",
    "\n",
    "    # random.choices 방식 시간 측정\n",
    "    start_time = time.time()\n",
    "    gen_r_array_choices(N)\n",
    "    end_time = time.time()\n",
    "    random_choice_times.append(end_time - start_time)\n",
    "\n",
    "    # NumPy linspace 방식 시간 측정\n",
    "    start_time = time.time()\n",
    "    gen_linspace_numpy(N)\n",
    "    end_time = time.time()\n",
    "    numpy_linspace_times.append(end_time - start_time)\n",
    "\n",
    "    # Python linspace 방식 시간 측정\n",
    "    start_time = time.time()\n",
    "    gen_linspace_python(N)\n",
    "    end_time = time.time()\n",
    "    python_linspace_times.append(end_time - start_time)\n",
    "\n",
    "# 속도 차트 그리기\n",
    "plt.figure(figsize=(12, 6))\n",
    "\n",
    "plt.subplot(1, 2, 1)\n",
    "plt.plot(sizes, numpy_choice_times, label='NumPy choice')\n",
    "plt.plot(sizes, random_choice_times, label='random.choices')\n",
    "plt.xlabel('Array Size (N)')\n",
    "plt.ylabel('Execution Time (seconds)')\n",
    "plt.title('Choice Execution Time Comparison')\n",
    "plt.legend()\n",
    "plt.grid(True)\n",
    "\n",
    "plt.subplot(1, 2, 2)\n",
    "plt.plot(sizes, numpy_linspace_times, label='NumPy linspace')\n",
    "plt.plot(sizes, python_linspace_times, label='Python linspace')\n",
    "plt.xlabel('Array Size (N)')\n",
    "plt.ylabel('Execution Time (seconds)')\n",
    "plt.title('Linspace Execution Time Comparison')\n",
    "plt.legend()\n",
    "plt.grid(True)\n",
    "\n",
    "plt.tight_layout()\n",
    "plt.show()\n",
    "\n",
    "#수치 비교 출력\n",
    "print(\"Choice 비교:\")\n",
    "for i, N in enumerate(sizes):\n",
    "  print(f\"N = {N}: numpy time = {numpy_choice_times[i]:.10f}, random time = {random_choice_times[i]:.10f}\")\n",
    "\n",
    "print(\"\\nLinspace 비교:\")\n",
    "for i, N in enumerate(sizes):\n",
    "  print(f\"N = {N}: numpy time = {numpy_linspace_times[i]:.10f}, python time = {python_linspace_times[i]:.10f}\")"
   ]
  },
  {
   "cell_type": "code",
   "execution_count": 109,
   "id": "aa28c453-50b6-4184-9719-b8680c264b31",
   "metadata": {},
   "outputs": [
    {
     "data": {
      "image/png": "[encoded data removed]",
      "text/plain": [
       "<Figure size 1000x600 with 1 Axes>"
      ]
     },
     "metadata": {},
     "output_type": "display_data"
    }
   ],
   "source": [
    "import numpy as np\n",
    "import random\n",
    "import time\n",
    "import matplotlib.pyplot as plt\n",
    "\n",
    "# NumPy 기반 함수\n",
    "def gen_r_array_choices_numpy(N):\n",
    "    a = np.random.choice(range(101), size=N)\n",
    "    b = np.random.choice(range(101), size=N)\n",
    "    return a, b\n",
    "\n",
    "# Python random 기반 함수\n",
    "def gen_r_array_choices(N):\n",
    "    a = random.choices(range(101), k=N)\n",
    "    b = random.choices(range(101), k=N)\n",
    "    return a, b\n",
    "\n",
    "# 고차 함수: 실행 시간 측정\n",
    "def measure_time(func, N):\n",
    "    start = time.time()\n",
    "    func(N)\n",
    "    return time.time() - start\n",
    "\n",
    "# 테스트할 N 값 생성 (1부터 1,000,000까지 100개 간격)\n",
    "N_values = np.linspace(1, 1_000_000, 100, dtype=int)\n",
    "\n",
    "numpy_times = []\n",
    "random_times = []\n",
    "# TODO 각 함수의 실행 시간 계산 위 배열에 추가\n",
    "for i in N_values:\n",
    "    numpy_times.append(measure_time(gen_r_array_choices_numpy, i))\n",
    "    random_times.append(measure_time(gen_r_array_choices, i))\n",
    "    \n",
    "\n",
    "# 선그래프 그리기\n",
    "plt.figure(figsize=(10, 6)) # 차트 크기 -> 그래프의 가로 크기 10인치, 세로 크기 6인치\n",
    "plt.xlabel('Array Size') # x축 레이블\n",
    "plt.ylabel('Time') # y축 레이블\n",
    "plt.title('Performance : numpy VS random')\n",
    "plt.plot(N_values, numpy_times, label='numpy', color='blue')\n",
    "plt.plot(N_values, random_times, label='random', color='red')\n",
    "plt.legend() # 범례를 추가\n",
    "plt.grid(True) # 그래프에 그리드 ON\n",
    "\n",
    "plt.xlim(0, 10000)  # x축 범위를 0부터 1000으로 제한\n",
    "plt.xticks(range(0, 10001, 1000))  # x축 눈금 간격을 100 단위로 설정\n",
    "\n",
    "# y축 범위 및 눈금 간격 조정\n",
    "ymin = 0\n",
    "ymax = 0.001\n",
    "plt.ylim(ymin, ymax)\n",
    "\n",
    "plt.show()"
   ]
  },
  {
   "cell_type": "code",
   "execution_count": null,
   "id": "e5d8d302-c52c-40b5-870f-e1d49d9b3c7f",
   "metadata": {},
   "outputs": [],
   "source": []
  },
  {
   "cell_type": "code",
   "execution_count": null,
   "id": "9ca6da88-2229-4dcb-acb3-a79f68802c16",
   "metadata": {},
   "outputs": [],
   "source": []
  }
 ],
 "metadata": {
  "kernelspec": {
   "display_name": "Python 3 (ipykernel)",
   "language": "python",
   "name": "python3"
  },
  "language_info": {
   "codemirror_mode": {
    "name": "ipython",
    "version": 3
   },
   "file_extension": ".py",
   "mimetype": "text/x-python",
   "name": "python",
   "nbconvert_exporter": "python",
   "pygments_lexer": "ipython3",
   "version": "3.10.12"
  }
 },
 "nbformat": 4,
 "nbformat_minor": 5
}
