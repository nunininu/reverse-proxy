{
 "cells": [
  {
   "cell_type": "code",
   "execution_count": null,
   "id": "d7673877-142e-426e-b3bb-bcb351b4130c",
   "metadata": {},
   "outputs": [],
   "source": [
    "import numpy as np\n",
    "import random\n",
    "import time\n",
    "import matplotlib.pyplot as plt\n",
    "\n",
    "\n",
    "# NumPy 기반 함수\n",
    "def gen_r_array_choices_numpy(N):\n",
    "    a = np.random.choice(range(101), size=N)\n",
    "    b = np.random.choice(range(101), size=N)\n",
    "    return a, b\n",
    "\n",
    "# Python random 기반 함수\n",
    "def gen_r_array_choices(N):\n",
    "    a = random.choices(range(101), k=N)\n",
    "    b = random.choices(range(101), k=N)\n",
    "    return a, b\n",
    "\n",
    "# 고차 함수: 실행 시간 측정\n",
    "def measure_time(func, N):\n",
    "    start = time.time()\n",
    "    func(N)\n",
    "    return time.time() - start\n",
    "\n",
    "# 테스트할 N 값 생성 (1부터 1,000,000까지 100개 간격)\n",
    "N_values = np.linspace(1, 1_000_000, 100, dtype=int)\n",
    "\n",
    "numpy_times = []\n",
    "random_times = []\n",
    "# TODO 각 함수의 실행 시간 계산 위 배열에 추가\n",
    "for i in N_values:\n",
    "    numpy_times.append(measure_time(gen_r_array_choices_numpy, i))\n",
    "    random_times.append(measure_time(gen_r_array_choices, i))\n",
    "\n"
   ]
  },
  {
   "cell_type": "code",
   "execution_count": null,
   "id": "97f31ea2-fbf7-40fd-b4f7-9696add9d8a9",
   "metadata": {},
   "outputs": [],
   "source": [
    "import numpy as np\n",
    "import random\n",
    "import time\n",
    "import matplotlib.pyplot as plt\n",
    "\n",
    "# Dataframe\n",
    "df = pd.read_csv(\"docker_stats.csv\")  \n",
    "\n",
    "# 선그래프 그리기\n",
    "plt.figure(figsize=(10, 6)) # 차트 크기 -> 그래프의 가로 크기 10인치, 세로 크기 6인치\n",
    "plt.xlabel('Array Size') # x축 레이블\n",
    "plt.ylabel('Time') # y축 레이블\n",
    "plt.title('Performance : numpy VS random')\n",
    "plt.plot(N_values, numpy_times, label='numpy', color='blue')\n",
    "plt.plot(N_values, random_times, label='random', color='red')\n",
    "plt.legend() # 범례를 추가\n",
    "plt.grid(True) # 그래프에 그리드 ON\n",
    "\n",
    "plt.xlim(0, 10000)  # x축 범위를 0부터 1000으로 제한\n",
    "plt.xticks(range(0, 10001, 1000))  # x축 눈금 간격을 100 단위로 설정\n",
    "\n",
    "# y축 범위 및 눈금 간격 조정\n",
    "ymin = 0\n",
    "ymax = 0.001\n",
    "plt.ylim(ymin, ymax)\n",
    "\n",
    "plt.show()"
   ]
  }
 ],
 "metadata": {
  "kernelspec": {
   "display_name": "Python 3 (ipykernel)",
   "language": "python",
   "name": "python3"
  },
  "language_info": {
   "codemirror_mode": {
    "name": "ipython",
    "version": 3
   },
   "file_extension": ".py",
   "mimetype": "text/x-python",
   "name": "python",
   "nbconvert_exporter": "python",
   "pygments_lexer": "ipython3",
   "version": "3.10.12"
  }
 },
 "nbformat": 4,
 "nbformat_minor": 5
}
